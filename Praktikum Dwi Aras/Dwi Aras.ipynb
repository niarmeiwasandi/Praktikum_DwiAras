{
 "cells": [
  {
   "cell_type": "markdown",
   "id": "e24c9326",
   "metadata": {},
   "source": [
    "### Putu Niar Meiwasandi (202131018)"
   ]
  },
  {
   "cell_type": "markdown",
   "id": "80f9d36b",
   "metadata": {},
   "source": [
    "## Pengembangan Dwi Aras"
   ]
  },
  {
   "cell_type": "code",
   "execution_count": 1,
   "id": "9555bab3",
   "metadata": {},
   "outputs": [],
   "source": [
    "import cv2\n",
    "import numpy as np\n",
    "from matplotlib import pyplot as plt"
   ]
  },
  {
   "cell_type": "code",
   "execution_count": 2,
   "id": "d9a91143",
   "metadata": {},
   "outputs": [],
   "source": [
    "daun = cv2.imread(\"daun.jpg\",0)\n",
    "tinggi, lebar = daun.shape"
   ]
  },
  {
   "cell_type": "code",
   "execution_count": 3,
   "id": "9aa13e9b",
   "metadata": {},
   "outputs": [],
   "source": [
    "cv2.imshow(\"gambar asli\",daun)\n",
    "cv2.waitKey(0)\n",
    "cv2.destroyAllWindows()"
   ]
  },
  {
   "cell_type": "markdown",
   "id": "3e24a852",
   "metadata": {},
   "source": [
    "## Pengembangan Dwi Aras dengan perkiraan nilai ambang"
   ]
  },
  {
   "cell_type": "code",
   "execution_count": 4,
   "id": "05e12066",
   "metadata": {},
   "outputs": [],
   "source": [
    "nilai_ambang = 128\n",
    "daun_hasil = daun.copy()\n",
    "for x in range(tinggi):\n",
    "    for y in range(lebar):\n",
    "        if daun[x,y] < nilai_ambang :\n",
    "            daun_hasil[x,y] = 0\n",
    "        else:\n",
    "            daun_hasil[x,y] = 255"
   ]
  },
  {
   "cell_type": "code",
   "execution_count": 5,
   "id": "b438cb48",
   "metadata": {},
   "outputs": [],
   "source": [
    "cv2.imshow(\"gambar daun_asli\",daun_hasil)\n",
    "cv2.waitKey(0)\n",
    "cv2.destroyAllWindows()"
   ]
  },
  {
   "cell_type": "markdown",
   "id": "f3ca0084",
   "metadata": {},
   "source": [
    "## Menentukan nilai ambang suatu gambar"
   ]
  },
  {
   "cell_type": "code",
   "execution_count": 6,
   "id": "3b211658",
   "metadata": {},
   "outputs": [],
   "source": [
    "def titeratif(image):\n",
    "    tinggi, lebar = image.shape\n",
    "    t0 = 127\n",
    "    while True:\n",
    "        rata_kiri = 0\n",
    "        rata_kanan = 0\n",
    "        jum_kiri = 0\n",
    "        jum_kanan = 0\n",
    "        for x in range(tinggi):\n",
    "            for y in range(lebar):\n",
    "                if image[x, y] < 127:\n",
    "                    rata_kiri = rata_kiri + image[x, y]\n",
    "                    jum_kiri = jum_kiri + 1\n",
    "                else:\n",
    "                    rata_kanan = rata_kanan + image[x, y]\n",
    "                    jum_kanan = jum_kanan + 1\n",
    "\n",
    "        rata_kiri = rata_kiri / jum_kiri\n",
    "        rata_kanan = rata_kanan / jum_kanan\n",
    "        t1 = (rata_kiri + rata_kanan) / 2\n",
    "        if (t0 - t1) < 1:\n",
    "            break\n",
    "        t0 = t1\n",
    "    return round(t0)"
   ]
  },
  {
   "cell_type": "code",
   "execution_count": 7,
   "id": "16e8ab4f",
   "metadata": {},
   "outputs": [
    {
     "data": {
      "text/plain": [
       "127"
      ]
     },
     "execution_count": 7,
     "metadata": {},
     "output_type": "execute_result"
    }
   ],
   "source": [
    "titeratif(daun)"
   ]
  }
 ],
 "metadata": {
  "kernelspec": {
   "display_name": "Python 3 (ipykernel)",
   "language": "python",
   "name": "python3"
  },
  "language_info": {
   "codemirror_mode": {
    "name": "ipython",
    "version": 3
   },
   "file_extension": ".py",
   "mimetype": "text/x-python",
   "name": "python",
   "nbconvert_exporter": "python",
   "pygments_lexer": "ipython3",
   "version": "3.10.11"
  }
 },
 "nbformat": 4,
 "nbformat_minor": 5
}
